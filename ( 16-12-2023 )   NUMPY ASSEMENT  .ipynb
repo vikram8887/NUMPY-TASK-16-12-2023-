{
 "cells": [
  {
   "cell_type": "markdown",
   "id": "1a29e2ef",
   "metadata": {},
   "source": [
    "# Problem-Solving with NumPy\n"
   ]
  },
  {
   "cell_type": "markdown",
   "id": "0697e48f",
   "metadata": {},
   "source": [
    "These assessment questions are designed in such a way where you will use NumPy functions and create a python function(def) to solve each question.\n",
    "\n",
    "### 1. Write a function, foo_1, that takes a NumPy array `arr` and returns the indices of the elements that are closest to a given target. If target is not in the given array, it should return ‘no item found’\n"
   ]
  },
  {
   "cell_type": "code",
   "execution_count": 1,
   "id": "9e214702",
   "metadata": {},
   "outputs": [],
   "source": [
    "import numpy as np\n",
    "\n",
    "def foo_1(arr, target):\n",
    "     \n",
    "    if target not in arr:\n",
    "        return 'no item found'\n",
    "    indices = np.abs(arr - target).argsort()\n",
    "    return indices"
   ]
  },
  {
   "cell_type": "code",
   "execution_count": 2,
   "id": "1973de07",
   "metadata": {},
   "outputs": [
    {
     "name": "stdout",
     "output_type": "stream",
     "text": [
      "[2 3 4 5 6 8 1 7 9 0]\n"
     ]
    }
   ],
   "source": [
    "arr1 = np.array([3, 8, 7, 7, 7, 7, 7, 8, 7, 10])\n",
    "target1 = 7\n",
    "output1 = foo_1(arr1, target1)\n",
    "print(output1)\n"
   ]
  },
  {
   "cell_type": "code",
   "execution_count": 3,
   "id": "efdf2de3",
   "metadata": {},
   "outputs": [
    {
     "name": "stdout",
     "output_type": "stream",
     "text": [
      "no item found\n"
     ]
    }
   ],
   "source": [
    "arr2 = np.array([3, 8, 7, 7, 7, 7, 7, 8, 7, 10])\n",
    "target2 = 11\n",
    "output2 = foo_1(arr2, target2)\n",
    "print(output2)"
   ]
  },
  {
   "cell_type": "markdown",
   "id": "07440975",
   "metadata": {},
   "source": [
    " Explanation\n",
    "\n",
    "This function first checks if the target is in the array.\n",
    "\n",
    "If not, it returns 'no item found'.\n",
    "\n",
    "If the target is in the array, it calculates the absolute differences between each element and the target, then sorts the \n",
    "\n",
    "indices based on these differences. \n",
    "\n",
    "Finally, it returns the sorted indices."
   ]
  },
  {
   "cell_type": "code",
   "execution_count": null,
   "id": "4bfbc1e0",
   "metadata": {},
   "outputs": [],
   "source": []
  },
  {
   "cell_type": "markdown",
   "id": "a304d622",
   "metadata": {},
   "source": [
    "###   2.   Write a user defined function foo_2 that takes a 1 or 2 dim NumPy array arr and returns a new n-1 dim array, where each element is replaced by the count of non-zero elements wrt axis.\n"
   ]
  },
  {
   "cell_type": "code",
   "execution_count": 7,
   "id": "54674a40",
   "metadata": {},
   "outputs": [
    {
     "data": {
      "text/plain": [
       "array([4, 1, 2])"
      ]
     },
     "execution_count": 7,
     "metadata": {},
     "output_type": "execute_result"
    }
   ],
   "source": [
    " def foo_2(arr, axis):\n",
    "    if arr.ndim != 2:\n",
    "        print(\"Input array must be 2-dimensional.\")\n",
    "    else:\n",
    "        x=np.where(arr != 0, 1, 0)\n",
    "        counts=np.sum(x,axis=axis)\n",
    "        return counts\n",
    "\n",
    "def foo_3(arr, axis):\n",
    "    if arr.ndim != 3:\n",
    "        print(\"Input array must be 3-dimensional.\")\n",
    "    else:\n",
    "        x=np.where(arr != 0, 1, 0)\n",
    "        counts=np.sum(x,axis=axis)\n",
    "        return counts\n",
    "    \n",
    "arr = np.array([[1, 2, 3, 4],\n",
    "                [0, 5, 0, 0],\n",
    "                [2, 0, 1, 0]])\n",
    "\n",
    "foo_2(arr, axis = 1)\n",
    "\n",
    " "
   ]
  },
  {
   "cell_type": "code",
   "execution_count": 8,
   "id": "45ff32d9",
   "metadata": {},
   "outputs": [
    {
     "data": {
      "text/plain": [
       "array([2, 2, 2, 1])"
      ]
     },
     "execution_count": 8,
     "metadata": {},
     "output_type": "execute_result"
    }
   ],
   "source": [
    "foo_2(arr, axis = 0)"
   ]
  },
  {
   "cell_type": "code",
   "execution_count": 10,
   "id": "94d26eb4",
   "metadata": {},
   "outputs": [
    {
     "data": {
      "text/plain": [
       "array([[2, 1, 2, 1],\n",
       "       [0, 2, 0, 0],\n",
       "       [2, 1, 2, 1]])"
      ]
     },
     "execution_count": 10,
     "metadata": {},
     "output_type": "execute_result"
    }
   ],
   "source": [
    "arr1 = np.array([[[1, 2, 3, 4], [0, 5, 0, 0], [2, 0, 1, 0]],\n",
    "                 [[2, 0, 1, 0], [0, 5, 0, 0], [1, 2, 3, 4]]])\n",
    "\n",
    "foo_3(arr1,axis=0)"
   ]
  },
  {
   "cell_type": "code",
   "execution_count": 11,
   "id": "62d22568",
   "metadata": {},
   "outputs": [
    {
     "name": "stdout",
     "output_type": "stream",
     "text": [
      "Input array must be 2-dimensional.\n"
     ]
    }
   ],
   "source": [
    "foo_2(arr1 , axis = 1)"
   ]
  },
  {
   "cell_type": "code",
   "execution_count": null,
   "id": "d12f42c1",
   "metadata": {},
   "outputs": [],
   "source": []
  },
  {
   "cell_type": "markdown",
   "id": "7a30cc7e",
   "metadata": {},
   "source": [
    "This function counts the non-zero elements along the specified axis using np.count_nonzero and then reshapes the result if it is 1-dimensional.\n",
    "\n",
    "The function is then tested with the provided cases, and the results match the expected outputs you provided."
   ]
  },
  {
   "cell_type": "code",
   "execution_count": null,
   "id": "d3f4f58d",
   "metadata": {},
   "outputs": [],
   "source": []
  },
  {
   "cell_type": "code",
   "execution_count": null,
   "id": "0e5e483a",
   "metadata": {},
   "outputs": [],
   "source": []
  },
  {
   "cell_type": "code",
   "execution_count": null,
   "id": "f2ff97e4",
   "metadata": {},
   "outputs": [],
   "source": []
  },
  {
   "cell_type": "code",
   "execution_count": null,
   "id": "3f09cb13",
   "metadata": {},
   "outputs": [],
   "source": []
  },
  {
   "cell_type": "markdown",
   "id": "c0a48dc3",
   "metadata": {},
   "source": [
    "## 3.\n",
    "### 3.1 You are given a 2D NumPy array of data representing student scores. Each row represents a student, and each column represents a subject. Extract the scores of all students who scored above 90 in at least one subject. Provide the resulting array.\n"
   ]
  },
  {
   "cell_type": "code",
   "execution_count": 13,
   "id": "04f37d21",
   "metadata": {},
   "outputs": [
    {
     "name": "stdout",
     "output_type": "stream",
     "text": [
      "score of students who secured greater than 90:\n",
      "(array([1, 2, 3], dtype=int64), array([2, 0, 1], dtype=int64))\n",
      "\n",
      "Scores of students who scored above 90 in at least one subject:\n",
      "[[78 89 94]\n",
      " [91 87 90]\n",
      " [87 95 84]]\n"
     ]
    }
   ],
   "source": [
    "data = np.array([[85, 89, 88], [78, 89, 94], [91, 87, 90], [87, 95, 84]])\n",
    "indices = np.where(data > 90)\n",
    "print(\"score of students who secured greater than 90:\")\n",
    "print(indices)\n",
    "\n",
    "\n",
    "unique_row_indices = np.unique(indices[0])\n",
    "result = data[unique_row_indices, :]\n",
    "print(\"\\nScores of students who scored above 90 in at least one subject:\")\n",
    "print(result)"
   ]
  },
  {
   "cell_type": "markdown",
   "id": "b9868aa0",
   "metadata": {},
   "source": [
    " Explanation\n",
    "    \n",
    "*  np.any(data > 90, axis=1): This creates a boolean mask by checking if any element in each row (axis=1) of the data array is greater than 90.\n",
    "\n",
    "* This results in a boolean array where each element corresponds to whether the student scored above 90 in at least one subject.\n",
    "\n",
    "* data[above_90_mask]: This uses boolean indexing to extract the rows (students) from the original data array where the corresponding element in above_90_mask is True.\n",
    "\n",
    "* This gives the resulting array containing scores of students who scored above 90 in at least one subject."
   ]
  },
  {
   "cell_type": "code",
   "execution_count": null,
   "id": "0e1aacb3",
   "metadata": {},
   "outputs": [],
   "source": []
  },
  {
   "cell_type": "code",
   "execution_count": null,
   "id": "1a2234cc",
   "metadata": {},
   "outputs": [],
   "source": []
  },
  {
   "cell_type": "code",
   "execution_count": null,
   "id": "8a3ee222",
   "metadata": {},
   "outputs": [],
   "source": []
  },
  {
   "cell_type": "code",
   "execution_count": null,
   "id": "78b4e7f5",
   "metadata": {},
   "outputs": [],
   "source": []
  },
  {
   "cell_type": "markdown",
   "id": "0e393964",
   "metadata": {},
   "source": [
    "### 3.2 You are provided with a 2D NumPy array of data representing sales data for different products. Each row corresponds to a product, and each column represents the monthly sales for a specific month. Calculate the following statistics for each product: mean, median, standard deviation, and the month with the highest sales.\n"
   ]
  },
  {
   "cell_type": "code",
   "execution_count": 9,
   "id": "bc746007",
   "metadata": {},
   "outputs": [
    {
     "name": "stdout",
     "output_type": "stream",
     "text": [
      "Product 1:\n",
      "  Mean: 127.5\n",
      "  Median: 125.0\n",
      "  Standard Deviation: 14.79019945774904\n",
      "  Month with Highest Sales: Month 2\n",
      "\n",
      "Product 2:\n",
      "  Mean: 212.5\n",
      "  Median: 210.0\n",
      "  Standard Deviation: 25.8602010819715\n",
      "  Month with Highest Sales: Month 4\n",
      "\n",
      "Product 3:\n",
      "  Mean: 98.75\n",
      "  Median: 97.5\n",
      "  Standard Deviation: 7.39509972887452\n",
      "  Month with Highest Sales: Month 4\n",
      "\n",
      "Product 4:\n",
      "  Mean: 310.0\n",
      "  Median: 310.0\n",
      "  Standard Deviation: 22.360679774997898\n",
      "  Month with Highest Sales: Month 4\n",
      "\n"
     ]
    }
   ],
   "source": [
    "import numpy as np\n",
    "\n",
    "sales_data = np.array([[120, 150, 130, 110],\n",
    "                       [200, 180, 220, 250],\n",
    "                       [90, 100, 95, 110],\n",
    "                       [300, 280, 320, 340]])\n",
    "\n",
    "mean_values = np.mean(sales_data, axis=1)\n",
    "median_values = np.median(sales_data, axis=1)\n",
    "std_dev_values = np.std(sales_data, axis=1)\n",
    "\n",
    "highest_sales_month = np.argmax(sales_data, axis=1)\n",
    "\n",
    "for i in range(len(mean_values)):\n",
    "    print(f\"Product {i+1}:\")\n",
    "    print(f\"  Mean: {mean_values[i]}\")\n",
    "    print(f\"  Median: {median_values[i]}\")\n",
    "    print(f\"  Standard Deviation: {std_dev_values[i]}\")\n",
    "    print(f\"  Month with Highest Sales: Month {highest_sales_month[i] + 1}\")\n",
    "    print()"
   ]
  },
  {
   "cell_type": "code",
   "execution_count": null,
   "id": "1941dfc5",
   "metadata": {},
   "outputs": [],
   "source": []
  },
  {
   "cell_type": "code",
   "execution_count": null,
   "id": "2cbd6364",
   "metadata": {},
   "outputs": [],
   "source": []
  },
  {
   "cell_type": "code",
   "execution_count": null,
   "id": "db0f7edb",
   "metadata": {},
   "outputs": [],
   "source": []
  },
  {
   "cell_type": "markdown",
   "id": "670b65b4",
   "metadata": {},
   "source": [
    "### 3.3 Create a NumPy array of size 1000 with random integers between 1 and 100. Then, use NumPy functions to find the top 10 most frequently occurring values in the array.\n"
   ]
  },
  {
   "cell_type": "code",
   "execution_count": 14,
   "id": "b4d43f17",
   "metadata": {},
   "outputs": [
    {
     "data": {
      "text/plain": [
       "array([89, 41, 59, 95, 31, 58, 60, 98, 11, 15, 82, 39, 76, 98,  6, 25, 44,\n",
       "       70,  7, 93, 44,  9, 78, 33, 53, 83, 79, 34, 67, 99, 17, 70, 21, 18,\n",
       "       80,  2, 37, 78, 96, 41, 96, 46, 92, 66, 70, 27, 18, 75, 62, 38, 70,\n",
       "       24, 14, 58, 39, 75, 97, 65, 50, 38, 11, 50,  3, 20, 29, 60, 62, 42,\n",
       "       69, 23,  8, 18, 31, 21, 85,  9, 78, 71,  1, 30, 70, 13, 83, 53, 82,\n",
       "       92, 21, 94, 34, 16, 68, 18, 58, 74, 75, 39, 81, 22, 24,  7,  4, 48,\n",
       "       31, 42, 64, 45, 59, 29, 51, 45, 35, 59,  6,  5, 72, 58, 90, 95, 41,\n",
       "       66, 88, 31, 62, 92, 65, 99, 12, 43, 48, 90, 26, 36, 34, 18, 34, 12,\n",
       "       51, 91,  4,  8, 74, 72, 81, 75,  2, 71, 22, 99, 38, 31, 89, 55, 76,\n",
       "       18,  4,  5, 14, 42, 78, 10, 51, 18, 90, 24, 17, 47, 26, 96, 87, 71,\n",
       "       27, 86, 53, 58,  8, 52, 95, 52, 28, 74, 85, 62, 75, 37, 99, 31, 63,\n",
       "       36, 62, 86, 94, 87, 40, 22, 80, 46, 49, 49, 14, 67, 88, 65, 15, 53,\n",
       "       59, 23, 57, 76, 23, 38, 89, 96, 25, 99, 62, 93, 24, 62, 12, 46, 75,\n",
       "       71, 20, 53, 76, 92,  4, 25, 15, 80, 53, 12, 17, 21, 10, 42, 66, 60,\n",
       "       21, 40, 82, 79, 41, 97, 12, 89,  5, 33, 61, 64, 52, 99, 15, 31, 36,\n",
       "        2, 40, 22, 22, 29, 45, 80, 25, 46, 66, 89, 69, 79, 80, 86,  7, 16,\n",
       "       34, 49, 91, 54, 88, 44, 73, 16, 76, 89, 88, 54, 78, 82, 63, 47, 78,\n",
       "        2, 38, 42, 80, 94, 73, 20, 38, 64,  4, 73, 34, 82,  3, 80,  2, 52,\n",
       "       23, 15, 43, 96, 87, 87, 97, 56, 73, 17, 91, 83, 98, 25, 32, 44, 93,\n",
       "       46,  1, 16, 49, 51, 96, 86, 74, 66, 92, 35, 88, 36, 41, 61, 60, 80,\n",
       "       20, 39,  3, 58,  3, 55,  1, 43, 35, 74, 24, 48, 97, 69, 52, 27, 72,\n",
       "       12, 45, 26, 26, 47, 85, 98, 34, 39, 79, 21, 55, 97, 55, 11, 88, 82,\n",
       "       63, 76, 49, 22, 75, 33, 66, 72, 21, 80, 83, 56,  6, 87, 47, 16, 38,\n",
       "       11, 63, 90, 40,  6,  5, 96, 57, 21, 82, 19, 38, 94, 69, 75, 28, 71,\n",
       "       24, 21, 15, 24, 82, 80, 71, 14, 93, 58, 60, 68, 13, 64,  4, 21, 10,\n",
       "        9,  3, 89, 79,  1, 97, 50, 32, 71, 86, 12, 13, 61, 81, 11, 37, 62,\n",
       "       96, 83, 59, 78, 85, 24, 44, 64, 22, 22, 85, 32, 78,  8, 64, 86, 90,\n",
       "        6, 72, 90, 53, 33, 62, 74, 87, 67, 82, 35, 26, 97, 60, 62, 34, 62,\n",
       "       81, 34, 15,  8, 67, 51, 95, 43, 17, 73, 12, 26, 58, 55, 72, 67, 83,\n",
       "       77, 24, 42, 82, 16, 93, 53, 49, 78, 96,  6, 80, 99,  8, 36, 14, 21,\n",
       "        7,  4, 75, 28, 21, 81, 89, 31, 93, 21, 11,  2, 51, 20, 19, 77, 61,\n",
       "       77, 27, 63,  9, 43, 21, 97, 46, 42, 23, 13,  4, 53, 82,  7, 39, 95,\n",
       "       94, 99, 94,  1, 49,  2, 73, 12, 89, 77, 36, 32, 64, 29, 62, 50, 82,\n",
       "       48, 90, 99, 16, 59, 80, 45, 49, 49, 51,  9, 33,  1, 15, 65, 50, 73,\n",
       "       88, 91,  9,  5, 26, 67,  9, 94, 39, 67, 56, 54, 65, 80,  1, 49, 54,\n",
       "       94, 76, 94,  2, 73, 45, 55, 13, 37, 88, 96, 69, 17,  7, 26, 28, 48,\n",
       "       97, 62, 66, 35, 84,  8, 30, 72, 80, 56, 67, 16, 86, 78, 12, 63, 68,\n",
       "       15, 94, 32, 77, 52, 37, 20,  5, 29,  5, 45, 19, 31, 57, 82, 59,  4,\n",
       "       30, 54, 89, 47, 98, 31, 96, 59, 61, 46, 79, 73, 88, 67, 28, 28, 12,\n",
       "       26, 92, 18,  3, 24, 61, 31, 44, 62, 49, 47, 47, 60, 30, 43, 57, 45,\n",
       "       39, 94,  4, 76, 77, 93, 66, 71, 96, 30,  4, 14, 42, 68,  1, 52, 78,\n",
       "       56, 36,  1, 94, 43, 22,  2, 39, 79, 65, 46, 95, 20, 29, 58, 98, 42,\n",
       "       51, 83, 25, 25, 39, 65, 40, 37, 38, 48, 59, 73, 45, 33, 11, 44, 60,\n",
       "       83, 60, 94, 99, 64, 26, 13, 33, 47, 19, 63,  6, 12, 57, 62, 36, 42,\n",
       "       13, 31,  7, 69, 61, 37, 16,  1, 48, 42,  9, 86, 71, 31, 94, 98, 79,\n",
       "       16, 27, 12, 95, 46, 48, 95, 43,  2, 14, 54, 77, 83, 21, 48, 19, 33,\n",
       "        7, 67, 18, 51, 58, 16, 15, 40, 37, 87, 37, 46, 14, 51, 94, 28, 35,\n",
       "       41, 33,  5, 39, 70,  1, 29, 87, 83, 42, 39, 72, 55, 40, 94, 35, 43,\n",
       "       90, 51, 35, 14, 17, 15,  2, 47, 20, 20, 44,  1, 88, 30, 49, 59, 79,\n",
       "       26, 53, 86, 90, 96, 92, 49, 15, 64, 65, 73, 42, 77,  6, 62, 48, 58,\n",
       "       51, 48, 44, 64, 87, 60, 57, 35, 30, 25, 20, 47, 93, 54, 28,  3, 70,\n",
       "       10, 89, 49, 67, 23,  2, 99, 35, 25, 51, 24, 92,  3, 60, 75, 79, 34,\n",
       "       49, 46, 51, 25, 92, 55, 63, 64, 20, 23, 87, 68, 67, 87, 43, 15, 43,\n",
       "       17, 90, 80, 57, 82, 61, 70, 15, 60, 46, 75,  4, 20, 21, 66, 99, 25,\n",
       "       32, 36, 43, 89, 79, 47, 51, 86, 68, 96, 69, 16,  9, 61, 24, 97, 87,\n",
       "       69, 88, 26, 83, 28, 57, 97, 86, 92,  6, 25, 90, 21, 39, 43, 55, 84,\n",
       "       97, 46, 23,  3,  6, 16, 42, 75, 32, 55, 20, 70, 43, 31, 12, 12, 81,\n",
       "       89, 38, 12, 54, 84, 83, 58, 39, 14, 62, 22, 47, 56,  8, 21, 48, 89,\n",
       "       71, 21, 76, 35, 61, 59, 17, 69, 21, 32, 10,  1, 33, 98])"
      ]
     },
     "execution_count": 14,
     "metadata": {},
     "output_type": "execute_result"
    }
   ],
   "source": [
    "z=np.random.randint(1,100,1000)\n",
    "z"
   ]
  },
  {
   "cell_type": "code",
   "execution_count": 15,
   "id": "004e42c2",
   "metadata": {},
   "outputs": [
    {
     "name": "stdout",
     "output_type": "stream",
     "text": [
      "Top 10 most frequently occurring values:\n",
      "Value: 21, Count: 20\n",
      "Value: 62, Count: 17\n",
      "Value: 12, Count: 16\n",
      "Value: 94, Count: 16\n",
      "Value: 51, Count: 15\n",
      "Value: 80, Count: 15\n",
      "Value: 49, Count: 15\n",
      "Value: 31, Count: 14\n",
      "Value: 82, Count: 14\n",
      "Value: 89, Count: 14\n"
     ]
    }
   ],
   "source": [
    " counts = np.bincount(z)\n",
    "\n",
    "top_indices = np.argsort(-counts)[:10]\n",
    "\n",
    "print(\"Top 10 most frequently occurring values:\")\n",
    "for index in top_indices:\n",
    "    print(f\"Value: {index}, Count: {counts[index]}\")"
   ]
  },
  {
   "cell_type": "markdown",
   "id": "5a6d369c",
   "metadata": {},
   "source": [
    "Explanation\n",
    "\n",
    "np.random.randint(1, 101, size=1000) generates an array of 1000 random integers between 1 and 100.\n",
    "\n",
    "np.unique(random_array, return_counts=True) returns unique values and their counts.\n",
    "\n",
    "np.argsort(counts)[::-1] creates an index array to sort unique values by their counts in descending order.\n",
    "\n",
    "unique_values[sorted_indices[:10]] and counts[sorted_indices[:10]] retrieve the top 10 values and their counts."
   ]
  },
  {
   "cell_type": "code",
   "execution_count": null,
   "id": "b10fb218",
   "metadata": {},
   "outputs": [],
   "source": []
  },
  {
   "cell_type": "code",
   "execution_count": null,
   "id": "6e058f03",
   "metadata": {},
   "outputs": [],
   "source": []
  },
  {
   "cell_type": "code",
   "execution_count": null,
   "id": "07f1921f",
   "metadata": {},
   "outputs": [],
   "source": []
  }
 ],
 "metadata": {
  "kernelspec": {
   "display_name": "Python 3 (ipykernel)",
   "language": "python",
   "name": "python3"
  },
  "language_info": {
   "codemirror_mode": {
    "name": "ipython",
    "version": 3
   },
   "file_extension": ".py",
   "mimetype": "text/x-python",
   "name": "python",
   "nbconvert_exporter": "python",
   "pygments_lexer": "ipython3",
   "version": "3.11.5"
  }
 },
 "nbformat": 4,
 "nbformat_minor": 5
}
